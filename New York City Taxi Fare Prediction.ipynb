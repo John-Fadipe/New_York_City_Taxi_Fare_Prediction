{
 "cells": [
  {
   "cell_type": "markdown",
   "id": "fe72dc3e-eefb-4caf-aa5a-e948158c2f31",
   "metadata": {},
   "source": [
    "## New York City Taxi Fare Prediction"
   ]
  },
  {
   "cell_type": "markdown",
   "id": "af4caf39-c53d-4aba-9a4d-49e8d7a668f7",
   "metadata": {},
   "source": [
    "Project Outline\n",
    "1. Download the dataset\n",
    "2. Explore and analyze the dataset\n",
    "3. Prepare dataset for machine learing training\n",
    "4. Train harcoded and baseline model\n",
    "5. Make predictions\n",
    "6. Perform feature engineering\n",
    "7. Train and evaluate models\n",
    "8. Tune hyperparameters for the best models\n",
    "9. Train on GPU with entire dataset\n",
    "10. Document and publish project outline"
   ]
  },
  {
   "cell_type": "markdown",
   "id": "e6857f5e-5439-4508-857b-0126eb4db3f2",
   "metadata": {},
   "source": [
    "## 1. Download the Dataset\n",
    "\n",
    "- Install required libraries\n",
    "- Download data from Kaggle\n",
    "- View dataset files\n",
    "- Load training set with Pandas\n",
    "- Load test set with Pandas"
   ]
  },
  {
   "cell_type": "markdown",
   "id": "eeaa942e-43b0-452e-a4c3-3dbaff2682bf",
   "metadata": {},
   "source": [
    "### Install Required Libraries"
   ]
  },
  {
   "cell_type": "code",
   "execution_count": 1,
   "id": "83e379ca-621b-4a8f-8910-e3b4393f91bb",
   "metadata": {},
   "outputs": [
    {
     "name": "stdout",
     "output_type": "stream",
     "text": [
      "Note: you may need to restart the kernel to use updated packages.\n"
     ]
    }
   ],
   "source": [
    "pip install pandas numpy scikit-learn xgboost --quiet"
   ]
  },
  {
   "cell_type": "code",
   "execution_count": 2,
   "id": "ca3bec40-7a73-4a4c-9134-e9368653671f",
   "metadata": {},
   "outputs": [
    {
     "name": "stdout",
     "output_type": "stream",
     "text": [
      "Note: you may need to restart the kernel to use updated packages.\n"
     ]
    }
   ],
   "source": [
    "pip install opendatasets --quiet"
   ]
  },
  {
   "cell_type": "markdown",
   "id": "2ac926a6-f788-43a3-8a54-4625ccee6347",
   "metadata": {},
   "source": [
    "### Download data from Kaggle"
   ]
  },
  {
   "cell_type": "code",
   "execution_count": null,
   "id": "656a9c78-c11b-4c4e-99ed-e30ec1210d7d",
   "metadata": {},
   "outputs": [],
   "source": []
  },
  {
   "cell_type": "code",
   "execution_count": null,
   "id": "404b5cc5-c327-4f83-bba5-6ac64e746307",
   "metadata": {},
   "outputs": [],
   "source": []
  }
 ],
 "metadata": {
  "kernelspec": {
   "display_name": "Python 3 (ipykernel)",
   "language": "python",
   "name": "python3"
  },
  "language_info": {
   "codemirror_mode": {
    "name": "ipython",
    "version": 3
   },
   "file_extension": ".py",
   "mimetype": "text/x-python",
   "name": "python",
   "nbconvert_exporter": "python",
   "pygments_lexer": "ipython3",
   "version": "3.13.2"
  }
 },
 "nbformat": 4,
 "nbformat_minor": 5
}
